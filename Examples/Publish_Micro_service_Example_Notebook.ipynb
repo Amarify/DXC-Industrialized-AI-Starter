{
  "nbformat": 4,
  "nbformat_minor": 0,
  "metadata": {
    "colab": {
      "name": "Publish Micro service_Example Notebook.ipynb",
      "provenance": [],
      "collapsed_sections": []
    },
    "kernelspec": {
      "name": "python3",
      "display_name": "Python 3"
    }
  },
  "cells": [
    {
      "cell_type": "markdown",
      "metadata": {
        "id": "e6N2MVPLOUpc"
      },
      "source": [
        "## Publish Micro-Service Example Notebook\n",
        "\n",
        "__Goal:__ The goal of this notebook is to provide an example to publish a microservice for your Machine Learning model using AI-Starter Package.\n",
        "\n",
        "\n",
        "\n"
      ]
    },
    {
      "cell_type": "code",
      "metadata": {
        "id": "ZHKVgyyJOVRC"
      },
      "source": [
        "#Install the DXC_Industrialized-AI-Starter Package.\n",
        "\n",
        "!pip install DXC-Industrialized-AI-Starter\n",
        "\n",
        "#or\n",
        "\n",
        "!pip install git+https://github.com/dxc-technology/DXC-Industrialized-AI-Starter.git\n"
      ],
      "execution_count": null,
      "outputs": []
    },
    {
      "cell_type": "markdown",
      "metadata": {
        "id": "o0ICyUvcFEqB"
      },
      "source": [
        "From DXC-Industrialized-AI-Starter library import dxc-ai package to use it for publishing micro-service."
      ]
    },
    {
      "cell_type": "code",
      "metadata": {
        "id": "Ak4clt6RQMg-",
        "outputId": "13200eb9-2636-4443-efd7-1d179e262038",
        "colab": {
          "base_uri": "https://localhost:8080/"
        }
      },
      "source": [
        "#Import ai module from dxc \n",
        "\n",
        "from dxc import ai"
      ],
      "execution_count": null,
      "outputs": [
        {
          "output_type": "stream",
          "text": [
            "/usr/local/lib/python3.6/dist-packages/distributed/config.py:20: YAMLLoadWarning: calling yaml.load() without Loader=... is deprecated, as the default Loader is unsafe. Please read https://msg.pyyaml.org/load for full details.\n",
            "  defaults = yaml.load(f)\n"
          ],
          "name": "stderr"
        },
        {
          "output_type": "stream",
          "text": [
            "[nltk_data] Downloading package punkt to /root/nltk_data...\n",
            "[nltk_data]   Unzipping tokenizers/punkt.zip.\n"
          ],
          "name": "stdout"
        },
        {
          "output_type": "stream",
          "text": [
            "/usr/local/lib/python3.6/dist-packages/sklearn/utils/deprecation.py:144: FutureWarning: The sklearn.metrics.classification module is  deprecated in version 0.22 and will be removed in version 0.24. The corresponding classes / functions should instead be imported from sklearn.metrics. Anything that cannot be imported from sklearn.metrics is now part of the private API.\n",
            "  warnings.warn(message, FutureWarning)\n",
            "/usr/local/lib/python3.6/dist-packages/sklearn/externals/six.py:31: FutureWarning: The module is deprecated in version 0.21 and will be removed in version 0.23 since we've dropped support for Python 2.7. Please rely on the official version of six (https://pypi.org/project/six/).\n",
            "  \"(https://pypi.org/project/six/).\", FutureWarning)\n",
            "/usr/local/lib/python3.6/dist-packages/sklearn/utils/deprecation.py:144: FutureWarning: The sklearn.metrics.scorer module is  deprecated in version 0.22 and will be removed in version 0.24. The corresponding classes / functions should instead be imported from sklearn.metrics. Anything that cannot be imported from sklearn.metrics is now part of the private API.\n",
            "  warnings.warn(message, FutureWarning)\n"
          ],
          "name": "stderr"
        }
      ]
    },
    {
      "cell_type": "markdown",
      "metadata": {
        "id": "Vt4NZkdW_Tnv"
      },
      "source": [
        "### Train Your Model\n",
        "\n",
        "In this example, we train a simple linear regression model for adding two numbers and create a model object which is further passed into microservice function for generating an API end point."
      ]
    },
    {
      "cell_type": "code",
      "metadata": {
        "id": "Z7nK6jLn_11g",
        "outputId": "f54503ea-2617-4871-dcc4-1292914baf66",
        "colab": {
          "base_uri": "https://localhost:8080/"
        }
      },
      "source": [
        "from sklearn.linear_model import LinearRegression\n",
        "import numpy as np\n",
        "\n",
        "X = [[2,3],[1,5],[5,6]]\n",
        "Y = [5,6,11]\n",
        " \n",
        "model = LinearRegression()\n",
        "model.fit(X,Y)"
      ],
      "execution_count": null,
      "outputs": [
        {
          "output_type": "execute_result",
          "data": {
            "text/plain": [
              "LinearRegression(copy_X=True, fit_intercept=True, n_jobs=None, normalize=False)"
            ]
          },
          "metadata": {
            "tags": []
          },
          "execution_count": 2
        }
      ]
    },
    {
      "cell_type": "markdown",
      "metadata": {
        "id": "7g8XOyxP-kMz"
      },
      "source": [
        "### Configure the microservice execution environment\n",
        "\n",
        "The execution environment is where the micorservice runs. This code assumes that the microservice execution environment is Algorithmia. In order to provide the information required to design the microservice, you must:\n",
        "<ul>\n",
        "  <li>create an Algorithmia account</li>\n",
        "  <li>create an <a href='https://algorithmia.com/user#credentials' target='new'>API key</a> with BOTH \"Read & Write Data\" and \"Manage Algorithms\" permissions enabled</li>\n",
        "  <li>create an algorithm user name</li>\n",
        "</ul>\n",
        "\n",
        "\n",
        "\n",
        "### Design the microservice \n",
        "\n",
        "This code defines the parameters needed to build and delpoy a microservice based on the trained <code>model</code>. Update <code>microservice_design</code> with parameters appropriate for your project. The parameters must contain valid keys, namespaces, and model paths from Algorithmia (see above)."
      ]
    },
    {
      "cell_type": "code",
      "metadata": {
        "id": "rwQN-vJ3QCvX"
      },
      "source": [
        "microservice_design = {\n",
        "    \"microservice_name\": \"AddingTwoNumbers\",\n",
        "    \"microservice_description\": \"This API predicts the sum of Two Numbers\",\n",
        "    \"execution_environment_username\": \"SoujanyaNavuluru\",\n",
        "    \"api_key\": \"simcbZ0x9OKAIa95KZvX/mS6N5A1\",\n",
        "    \"api_namespace\": \"SoujanyaNavuluru/AddingTwoNumbers\",\n",
        "    \"model_path\":\"data://.my/mycollection\"\n",
        "}"
      ],
      "execution_count": null,
      "outputs": []
    },
    {
      "cell_type": "markdown",
      "metadata": {
        "id": "DTSx5uIS_Dxa"
      },
      "source": [
        "### Publish microservice\n",
        "\n",
        "<code>publish_microservice</code> function from <code>ai library</code> commits the changes made to the local, clones GitHub repository and compiles the new microservice in Algorithmia and finally publishes the microservice. It also generates the api endpoint for the newly published microservice.\n",
        "\n",
        "**Note:** Once the below \"publish_microservice\" is executed, a copy of microservice_design details are logged and will be available in your local folder.\n",
        "."
      ]
    },
    {
      "cell_type": "code",
      "metadata": {
        "id": "ipYsVQfFQP2d",
        "outputId": "a35416fb-083f-4787-bdfc-eb0efc30510d",
        "colab": {
          "base_uri": "https://localhost:8080/"
        }
      },
      "source": [
        "api_url = ai.publish_microservice(microservice_design, model,  verbose = False)\n",
        "print(\"api url: \" + api_url)"
      ],
      "execution_count": null,
      "outputs": [
        {
          "output_type": "stream",
          "text": [
            "api url: https://api.algorithmia.com/v1/algo/SoujanyaNavuluru/AddingTwoNumbers/0.1.1\n"
          ],
          "name": "stdout"
        }
      ]
    },
    {
      "cell_type": "markdown",
      "metadata": {
        "id": "W45MFJk9B8NH"
      },
      "source": [
        "### Testing Microservice Method-1\n",
        "\n",
        "\n",
        "Below is the example to test the published microservice using doctest.\n",
        "\n",
        "\n",
        "This code defines a unit test that sends data to an API endpoint and checks for an expected result. Update the <code>Context</code>, <code>Intent</code>, and <code>Design</code> to reflect your story. \n",
        "\n",
        "The <code>design</code> is the specification for your AI microservice. It defines the URL enpoint for the service. The test submits test input to the endpoint and tests if the output is within an expected range. Given the input you defined, you must also define an expected range within which the microservice will output when it is working properly. This means that you must form an expectation or reasonable behavior for the microservice.\n",
        "\n",
        "The <code>datastory</code> function acts as a contract that automatically verifies when you have completed the microservice. Create the <code>datastory()</code> and verify that the test fails. \n"
      ]
    },
    {
      "cell_type": "code",
      "metadata": {
        "id": "EhLSS-HGBwm-"
      },
      "source": [
        "# importing required packages for testing microservice\n",
        "\n",
        "import doctest #documenting data stories\n",
        "import requests"
      ],
      "execution_count": null,
      "outputs": []
    },
    {
      "cell_type": "code",
      "metadata": {
        "id": "eQR7qXJL_9jO",
        "outputId": "7d710579-ce4f-43c4-d68f-95afbb82d7da",
        "colab": {
          "base_uri": "https://localhost:8080/"
        }
      },
      "source": [
        "# TODO: write the AI microservice specification\n",
        "def datastory(api_endpoint, input, header):\n",
        "    \"\"\"\n",
        "    Context:\n",
        "    This microservice helps to predict the result of sum of two numbers.\n",
        "\n",
        "    Intent:\n",
        "    This microservice helps to predict the result of sum of two numbers.\n",
        "\n",
        "    Design:\n",
        "    >>> api_endpoint = \"https://api.algorithmia.com/v1/algo/SoujanyaNavuluru/AddingTwoNumbers/0.1.1\"\n",
        "    >>> input = '[[5,6]]'\n",
        "    >>> header = {'Content-Type': 'application/json',  'Authorization': 'simcbZ0x9OKAIa95KZvX/mS6N5A1'}\n",
        "    >>> datastory(api_endpoint, input, header) \n",
        "    '[11.0]'\n",
        "    \"\"\"\n",
        "\n",
        "    try:\n",
        "      headers = {\n",
        "          'Content-Type': 'application/json',\n",
        "          'Authorization': 'simcbZ0x9OKAIa95KZvX/mS6N5A1',\n",
        "      }\n",
        "      params = (\n",
        "          ('timeout', '300'),\n",
        "      )\n",
        "      data = input\n",
        "      response = requests.post(api_endpoint, headers=headers, params=params, data=data)\n",
        "      result = response.json()['result']['results']\n",
        "    \n",
        "    except Exception as error:\n",
        "      result = {error}\n",
        "\n",
        "    return result\n",
        "\n",
        "doctest.testmod(verbose=True)"
      ],
      "execution_count": null,
      "outputs": [
        {
          "output_type": "stream",
          "text": [
            "Trying:\n",
            "    api_endpoint = \"https://api.algorithmia.com/v1/algo/SoujanyaNavuluru/AddingTwoNumbers/0.1.1\"\n",
            "Expecting nothing\n",
            "ok\n",
            "Trying:\n",
            "    input = '[[5,6]]'\n",
            "Expecting nothing\n",
            "ok\n",
            "Trying:\n",
            "    header = {'Content-Type': 'application/json',  'Authorization': 'simcbZ0x9OKAIa95KZvX/mS6N5A1'}\n",
            "Expecting nothing\n",
            "ok\n",
            "Trying:\n",
            "    datastory(api_endpoint, input, header) \n",
            "Expecting:\n",
            "    '[11.0]'\n",
            "ok\n",
            "1 items had no tests:\n",
            "    __main__\n",
            "1 items passed all tests:\n",
            "   4 tests in __main__.datastory\n",
            "4 tests in 2 items.\n",
            "4 passed and 0 failed.\n",
            "Test passed.\n"
          ],
          "name": "stdout"
        },
        {
          "output_type": "execute_result",
          "data": {
            "text/plain": [
              "TestResults(failed=0, attempted=4)"
            ]
          },
          "metadata": {
            "tags": []
          },
          "execution_count": 6
        }
      ]
    },
    {
      "cell_type": "markdown",
      "metadata": {
        "id": "qX2s3FkZDHxC"
      },
      "source": [
        "### Testing Microservice Method-2\n",
        "\n",
        "Below is the example to test the published microservice using Algorithmia."
      ]
    },
    {
      "cell_type": "code",
      "metadata": {
        "id": "WqRsKOsd-KtO",
        "outputId": "82830f01-8497-416c-916b-7e5d6484fa6c",
        "colab": {
          "base_uri": "https://localhost:8080/"
        }
      },
      "source": [
        "import Algorithmia\n",
        "\n",
        "input = [ [ 4, 6 ] ]\n",
        "\n",
        "client = Algorithmia.client('simcbZ0x9OKAIa95KZvX/mS6N5A1')\n",
        "algo = client.algo('SoujanyaNavuluru/AddingTwoNumbers/0.1.1')\n",
        "algo.set_options(timeout=300) # optional\n",
        "print(algo.pipe(input).result)"
      ],
      "execution_count": null,
      "outputs": [
        {
          "output_type": "stream",
          "text": [
            "{'results': '[10.0]'}\n"
          ],
          "name": "stdout"
        }
      ]
    }
  ]
}