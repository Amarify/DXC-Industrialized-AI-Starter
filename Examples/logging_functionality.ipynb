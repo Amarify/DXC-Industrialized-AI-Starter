{
  "nbformat": 4,
  "nbformat_minor": 0,
  "metadata": {
    "colab": {
      "name": "logging functionality.ipynb",
      "provenance": [],
      "collapsed_sections": []
    },
    "kernelspec": {
      "display_name": "Python 3",
      "language": "python",
      "name": "python3"
    },
    "language_info": {
      "codemirror_mode": {
        "name": "ipython",
        "version": 3
      },
      "file_extension": ".py",
      "mimetype": "text/x-python",
      "name": "python",
      "nbconvert_exporter": "python",
      "pygments_lexer": "ipython3",
      "version": "3.7.6"
    }
  },
  "cells": [
    {
      "cell_type": "markdown",
      "metadata": {
        "id": "reXgWc5uR9cY"
      },
      "source": [
        "**Logging** is an important module in tracking the work or performance. Maintaining logs helps is tracing the error, variable value and other many uses.\n",
        "\n",
        "**DXC industrialized AI** starter also performs default logging for few crucial functions. We have provided the automatic logging functionality for below major funtions in this library.\n",
        "\n",
        "\n",
        "\n",
        "1.   Build Data Pipelines\n",
        "2.   Run AI Experiments\n",
        "3.   Publish Microservice\n",
        "\n",
        "\n",
        "These auto logging is introduced to save the user build pipelines, inputs provided for run experiment function and also to store the microservice design skeleton used for publishing model in algorithmia.\n",
        "\n",
        "These logs can be referred back in case to rerun or reuse any pipeline or microservice design details. Logs will be saved in the same location where notebook with functions used. \n",
        "\n",
        "Log files can be viewed from left side files folder (in google colab) or files will be same folder where script is executed (in juypter).\n",
        "\n",
        "We have also provided commands below to view logs files."
      ]
    },
    {
      "cell_type": "code",
      "metadata": {
        "id": "HGr3U_fhNIOk"
      },
      "source": [
        "##You must restart the runtime/session in order to use newly installed versions.\n",
        "%%capture\n",
        "! pip install DXC-Industrialized-AI-Starter\n",
        "import os\n",
        "os.kill(os.getpid(), 9)"
      ],
      "execution_count": null,
      "outputs": []
    },
    {
      "cell_type": "code",
      "metadata": {
        "id": "KpvJo8WDKbz4"
      },
      "source": [
        "%%capture\n",
        "from dxc import ai"
      ],
      "execution_count": null,
      "outputs": []
    },
    {
      "cell_type": "code",
      "metadata": {
        "id": "7k2-8NoBH8ry",
        "scrolled": true,
        "outputId": "6c50bb67-2efa-40bd-cec4-ec852af709d1",
        "colab": {
          "base_uri": "https://localhost:8080/",
          "height": 360
        }
      },
      "source": [
        "# TODO: Access raw data.\n",
        "##reads json from a url and flattens it into a dataframe\n",
        "df = ai.read_data_frame_from_remote_json(\"https://data.cincinnati-oh.gov/resource/ucjy-ykv4.json\")\n",
        "df.head()"
      ],
      "execution_count": null,
      "outputs": [
        {
          "output_type": "execute_result",
          "data": {
            "text/html": [
              "<div>\n",
              "<style scoped>\n",
              "    .dataframe tbody tr th:only-of-type {\n",
              "        vertical-align: middle;\n",
              "    }\n",
              "\n",
              "    .dataframe tbody tr th {\n",
              "        vertical-align: top;\n",
              "    }\n",
              "\n",
              "    .dataframe thead th {\n",
              "        text-align: right;\n",
              "    }\n",
              "</style>\n",
              "<table border=\"1\" class=\"dataframe\">\n",
              "  <thead>\n",
              "    <tr style=\"text-align: right;\">\n",
              "      <th></th>\n",
              "      <th>request_id</th>\n",
              "      <th>request_status</th>\n",
              "      <th>funding_source</th>\n",
              "      <th>request_type</th>\n",
              "      <th>department_name</th>\n",
              "      <th>fiscal_year</th>\n",
              "      <th>replacement_body_style</th>\n",
              "      <th>equipment_class</th>\n",
              "      <th>equip_id_to_replace</th>\n",
              "      <th>replacement_make</th>\n",
              "      <th>replacement_model</th>\n",
              "      <th>date_fleet_doc_entered</th>\n",
              "      <th>fleet_document_type</th>\n",
              "      <th>purchasing_bid_date</th>\n",
              "      <th>est_unit_cost</th>\n",
              "      <th>date_bid_closed</th>\n",
              "      <th>date_po_awarded</th>\n",
              "      <th>actual_unit_cost</th>\n",
              "      <th>procurement_plan</th>\n",
              "    </tr>\n",
              "  </thead>\n",
              "  <tbody>\n",
              "    <tr>\n",
              "      <th>0</th>\n",
              "      <td>463</td>\n",
              "      <td>Completed</td>\n",
              "      <td>CAP</td>\n",
              "      <td>Fleet Procurement Plan</td>\n",
              "      <td>Fire</td>\n",
              "      <td>2019</td>\n",
              "      <td>SEDAN</td>\n",
              "      <td>PC-GS</td>\n",
              "      <td>06193</td>\n",
              "      <td>CHEVROLET</td>\n",
              "      <td>MALIBU</td>\n",
              "      <td>2019-04-09T00:00:00.000</td>\n",
              "      <td>RQS</td>\n",
              "      <td>2019-07-05T00:00:00.000</td>\n",
              "      <td>19246</td>\n",
              "      <td>2019-07-05T00:00:00.000</td>\n",
              "      <td>2019-07-10T00:00:00.000</td>\n",
              "      <td>17507.14</td>\n",
              "      <td>Passenger Cars</td>\n",
              "    </tr>\n",
              "    <tr>\n",
              "      <th>1</th>\n",
              "      <td>674</td>\n",
              "      <td>Completed</td>\n",
              "      <td>Auction Funds</td>\n",
              "      <td>Supplemental Request</td>\n",
              "      <td>DPS - Fleet Services Division</td>\n",
              "      <td>2019</td>\n",
              "      <td>HYDRANT PUMP</td>\n",
              "      <td>NaN</td>\n",
              "      <td>NaN</td>\n",
              "      <td>MILWAUKEE</td>\n",
              "      <td>M18 LI-ION</td>\n",
              "      <td>2019-11-05T00:00:00.000</td>\n",
              "      <td>DO</td>\n",
              "      <td>NaN</td>\n",
              "      <td>400</td>\n",
              "      <td>NaN</td>\n",
              "      <td>NaN</td>\n",
              "      <td>355.55</td>\n",
              "      <td>Specialized Small</td>\n",
              "    </tr>\n",
              "    <tr>\n",
              "      <th>2</th>\n",
              "      <td>688</td>\n",
              "      <td>Denied</td>\n",
              "      <td>Operating Funds</td>\n",
              "      <td>Supplemental Request</td>\n",
              "      <td>DPS - Neighborhood Operations Division</td>\n",
              "      <td>2020</td>\n",
              "      <td>NaN</td>\n",
              "      <td>GROUNDS</td>\n",
              "      <td>NEW</td>\n",
              "      <td>NaN</td>\n",
              "      <td>NaN</td>\n",
              "      <td>NaN</td>\n",
              "      <td>DO</td>\n",
              "      <td>NaN</td>\n",
              "      <td>4631.8</td>\n",
              "      <td>NaN</td>\n",
              "      <td>NaN</td>\n",
              "      <td>NaN</td>\n",
              "      <td>NaN</td>\n",
              "    </tr>\n",
              "    <tr>\n",
              "      <th>3</th>\n",
              "      <td>818</td>\n",
              "      <td>Completed</td>\n",
              "      <td>Other</td>\n",
              "      <td>Supplemental Request</td>\n",
              "      <td>Police</td>\n",
              "      <td>2017</td>\n",
              "      <td>SUV</td>\n",
              "      <td>PC-GS</td>\n",
              "      <td>TBD</td>\n",
              "      <td>Chevrolet</td>\n",
              "      <td>Traverse</td>\n",
              "      <td>2020-06-01T00:00:00.000</td>\n",
              "      <td>DO</td>\n",
              "      <td>NaN</td>\n",
              "      <td>25799.5</td>\n",
              "      <td>NaN</td>\n",
              "      <td>NaN</td>\n",
              "      <td>25799.5</td>\n",
              "      <td>Passenger Cars</td>\n",
              "    </tr>\n",
              "    <tr>\n",
              "      <th>4</th>\n",
              "      <td>248</td>\n",
              "      <td>Completed</td>\n",
              "      <td>CIP</td>\n",
              "      <td>Fleet Procurement Plan</td>\n",
              "      <td>Recreation</td>\n",
              "      <td>2017</td>\n",
              "      <td>HEDGE TRIMMER</td>\n",
              "      <td>SPECIALIZED SMALL</td>\n",
              "      <td>46500</td>\n",
              "      <td>STIHL</td>\n",
              "      <td>HS82T(24\")</td>\n",
              "      <td>2017-08-01T00:00:00.000</td>\n",
              "      <td>DO</td>\n",
              "      <td>NaN</td>\n",
              "      <td>250</td>\n",
              "      <td>NaN</td>\n",
              "      <td>2017-08-07T00:00:00.000</td>\n",
              "      <td>384.96</td>\n",
              "      <td>Horticulture</td>\n",
              "    </tr>\n",
              "  </tbody>\n",
              "</table>\n",
              "</div>"
            ],
            "text/plain": [
              "  request_id request_status  ... actual_unit_cost   procurement_plan\n",
              "0        463      Completed  ...         17507.14     Passenger Cars\n",
              "1        674      Completed  ...           355.55  Specialized Small\n",
              "2        688         Denied  ...              NaN                NaN\n",
              "3        818      Completed  ...          25799.5     Passenger Cars\n",
              "4        248      Completed  ...           384.96       Horticulture\n",
              "\n",
              "[5 rows x 19 columns]"
            ]
          },
          "metadata": {
            "tags": []
          },
          "execution_count": 2
        }
      ]
    },
    {
      "cell_type": "code",
      "metadata": {
        "id": "hIRPuq10Kb0V"
      },
      "source": [
        "# TODO: define the data fields\n",
        "text_fields = []\n",
        "date_fields = ['date_fleet_doc_entered', 'purchasing_bid_date', 'date_bid_closed', 'date_po_awarded']\n",
        "numeric_fields = ['est_unit_cost', 'actual_unit_cost']\n",
        "categorical_fields = ['request_id','request_status', 'funding_source', 'request_type', 'department_name', \n",
        "                      'fiscal_year', 'replacement_body_style','equipment_class','equip_id_to_replace',\n",
        "                      'replacement_make', 'replacement_model','fleet_document_type', 'procurement_plan']\n"
      ],
      "execution_count": null,
      "outputs": []
    },
    {
      "cell_type": "code",
      "metadata": {
        "id": "mEFE68czKb0X",
        "outputId": "b3fd4c1d-26e6-40d3-cb7b-2ecd1121cc5c",
        "colab": {
          "base_uri": "https://localhost:8080/",
          "height": 513
        }
      },
      "source": [
        "#clean the data\n",
        "impute = True\n",
        "raw_data = ai.clean_dataframe(df, impute, text_fields, date_fields, numeric_fields, categorical_fields)\n",
        "\n",
        "#display excerpts of the raw data\n",
        "raw_data.head()"
      ],
      "execution_count": null,
      "outputs": [
        {
          "output_type": "stream",
          "text": [
            "Imputing row 1/862 with 0 missing, elapsed time: 0.163\n",
            "Imputing row 101/862 with 0 missing, elapsed time: 0.169\n",
            "Imputing row 201/862 with 0 missing, elapsed time: 0.173\n",
            "Imputing row 301/862 with 2 missing, elapsed time: 0.176\n",
            "Imputing row 401/862 with 1 missing, elapsed time: 0.181\n",
            "Imputing row 501/862 with 0 missing, elapsed time: 0.184\n",
            "Imputing row 601/862 with 0 missing, elapsed time: 0.187\n",
            "Imputing row 701/862 with 0 missing, elapsed time: 0.191\n",
            "Imputing row 801/862 with 0 missing, elapsed time: 0.195\n"
          ],
          "name": "stdout"
        },
        {
          "output_type": "execute_result",
          "data": {
            "text/html": [
              "<div>\n",
              "<style scoped>\n",
              "    .dataframe tbody tr th:only-of-type {\n",
              "        vertical-align: middle;\n",
              "    }\n",
              "\n",
              "    .dataframe tbody tr th {\n",
              "        vertical-align: top;\n",
              "    }\n",
              "\n",
              "    .dataframe thead th {\n",
              "        text-align: right;\n",
              "    }\n",
              "</style>\n",
              "<table border=\"1\" class=\"dataframe\">\n",
              "  <thead>\n",
              "    <tr style=\"text-align: right;\">\n",
              "      <th></th>\n",
              "      <th>request_id</th>\n",
              "      <th>request_status</th>\n",
              "      <th>funding_source</th>\n",
              "      <th>request_type</th>\n",
              "      <th>department_name</th>\n",
              "      <th>fiscal_year</th>\n",
              "      <th>replacement_body_style</th>\n",
              "      <th>equipment_class</th>\n",
              "      <th>equip_id_to_replace</th>\n",
              "      <th>replacement_make</th>\n",
              "      <th>replacement_model</th>\n",
              "      <th>date_fleet_doc_entered</th>\n",
              "      <th>fleet_document_type</th>\n",
              "      <th>purchasing_bid_date</th>\n",
              "      <th>est_unit_cost</th>\n",
              "      <th>date_bid_closed</th>\n",
              "      <th>date_po_awarded</th>\n",
              "      <th>actual_unit_cost</th>\n",
              "      <th>procurement_plan</th>\n",
              "    </tr>\n",
              "  </thead>\n",
              "  <tbody>\n",
              "    <tr>\n",
              "      <th>0</th>\n",
              "      <td>463</td>\n",
              "      <td>Completed</td>\n",
              "      <td>CAP</td>\n",
              "      <td>Fleet Procurement Plan</td>\n",
              "      <td>Fire</td>\n",
              "      <td>2019</td>\n",
              "      <td>SEDAN</td>\n",
              "      <td>PC-GS</td>\n",
              "      <td>06193</td>\n",
              "      <td>CHEVROLET</td>\n",
              "      <td>MALIBU</td>\n",
              "      <td>2019-04-09T00:00:00+00:00</td>\n",
              "      <td>RQS</td>\n",
              "      <td>2019-07-05T00:00:00+00:00</td>\n",
              "      <td>19246.0</td>\n",
              "      <td>2019-07-05T00:00:00+00:00</td>\n",
              "      <td>2019-07-10T00:00:00+00:00</td>\n",
              "      <td>17507.14</td>\n",
              "      <td>Passenger Cars</td>\n",
              "    </tr>\n",
              "    <tr>\n",
              "      <th>1</th>\n",
              "      <td>674</td>\n",
              "      <td>Completed</td>\n",
              "      <td>Auction Funds</td>\n",
              "      <td>Supplemental Request</td>\n",
              "      <td>DPS - Fleet Services Division</td>\n",
              "      <td>2019</td>\n",
              "      <td>HYDRANT PUMP</td>\n",
              "      <td>OTHER</td>\n",
              "      <td>NA</td>\n",
              "      <td>MILWAUKEE</td>\n",
              "      <td>M18 LI-ION</td>\n",
              "      <td>2019-11-05T00:00:00+00:00</td>\n",
              "      <td>DO</td>\n",
              "      <td>2019-07-31T00:00:00+00:00</td>\n",
              "      <td>400.0</td>\n",
              "      <td>2019-07-05T00:00:00+00:00</td>\n",
              "      <td>2019-10-31T00:00:00+00:00</td>\n",
              "      <td>355.55</td>\n",
              "      <td>Specialized Small</td>\n",
              "    </tr>\n",
              "    <tr>\n",
              "      <th>2</th>\n",
              "      <td>688</td>\n",
              "      <td>Denied</td>\n",
              "      <td>Operating Funds</td>\n",
              "      <td>Supplemental Request</td>\n",
              "      <td>DPS - Neighborhood Operations Division</td>\n",
              "      <td>2020</td>\n",
              "      <td>Backpack blower</td>\n",
              "      <td>GROUNDS</td>\n",
              "      <td>NEW</td>\n",
              "      <td>WOODS</td>\n",
              "      <td>MALIBU</td>\n",
              "      <td>2019-12-03T00:00:00+00:00</td>\n",
              "      <td>DO</td>\n",
              "      <td>2019-12-31T00:00:00+00:00</td>\n",
              "      <td>4631.8</td>\n",
              "      <td>2019-02-27T00:00:00+00:00</td>\n",
              "      <td>2020-01-06T00:00:00+00:00</td>\n",
              "      <td>4785.25</td>\n",
              "      <td>Passenger Cars</td>\n",
              "    </tr>\n",
              "    <tr>\n",
              "      <th>3</th>\n",
              "      <td>818</td>\n",
              "      <td>Completed</td>\n",
              "      <td>Other</td>\n",
              "      <td>Supplemental Request</td>\n",
              "      <td>Police</td>\n",
              "      <td>2017</td>\n",
              "      <td>SUV</td>\n",
              "      <td>PC-GS</td>\n",
              "      <td>TBD</td>\n",
              "      <td>Chevrolet</td>\n",
              "      <td>Traverse</td>\n",
              "      <td>2020-06-01T00:00:00+00:00</td>\n",
              "      <td>DO</td>\n",
              "      <td>2020-04-29T00:00:00+00:00</td>\n",
              "      <td>25799.5</td>\n",
              "      <td>2020-06-19T00:00:00+00:00</td>\n",
              "      <td>2020-06-12T00:00:00+00:00</td>\n",
              "      <td>25799.50</td>\n",
              "      <td>Passenger Cars</td>\n",
              "    </tr>\n",
              "    <tr>\n",
              "      <th>4</th>\n",
              "      <td>248</td>\n",
              "      <td>Completed</td>\n",
              "      <td>CIP</td>\n",
              "      <td>Fleet Procurement Plan</td>\n",
              "      <td>Recreation</td>\n",
              "      <td>2017</td>\n",
              "      <td>HEDGE TRIMMER</td>\n",
              "      <td>SPECIALIZED SMALL</td>\n",
              "      <td>46500</td>\n",
              "      <td>STIHL</td>\n",
              "      <td>HS82T(24\")</td>\n",
              "      <td>2017-08-01T00:00:00+00:00</td>\n",
              "      <td>DO</td>\n",
              "      <td>2018-03-02T00:00:00+00:00</td>\n",
              "      <td>250.0</td>\n",
              "      <td>2018-04-11T00:00:00+00:00</td>\n",
              "      <td>2017-08-07T00:00:00+00:00</td>\n",
              "      <td>384.96</td>\n",
              "      <td>Horticulture</td>\n",
              "    </tr>\n",
              "  </tbody>\n",
              "</table>\n",
              "</div>"
            ],
            "text/plain": [
              "  request_id request_status  ... actual_unit_cost   procurement_plan\n",
              "0        463      Completed  ...         17507.14     Passenger Cars\n",
              "1        674      Completed  ...           355.55  Specialized Small\n",
              "2        688         Denied  ...          4785.25     Passenger Cars\n",
              "3        818      Completed  ...         25799.50     Passenger Cars\n",
              "4        248      Completed  ...           384.96       Horticulture\n",
              "\n",
              "[5 rows x 19 columns]"
            ]
          },
          "metadata": {
            "tags": []
          },
          "execution_count": 4
        }
      ]
    },
    {
      "cell_type": "code",
      "metadata": {
        "id": "VUs-B1kMQx5q"
      },
      "source": [
        "# TODO: specify the details of the data layer\n",
        "data_layer = {\n",
        "    \"connection_string\": \"<your connection_string>\",\n",
        "    \"collection_name\": \"<your collection_name>\",\n",
        "    \"database_name\": \"<your database_name>\",\n",
        "    \"data_source\":\"<Source of your datset>\",\n",
        "    \"cleaner\":\"<whether applied cleaner yes/no >\"\n",
        "}"
      ],
      "execution_count": null,
      "outputs": []
    },
    {
      "cell_type": "code",
      "metadata": {
        "id": "ZqVWcr41hBik"
      },
      "source": [
        "wrt_raw_data = ai.write_raw_data(data_layer, raw_data, date_fields)"
      ],
      "execution_count": null,
      "outputs": []
    },
    {
      "cell_type": "code",
      "metadata": {
        "id": "wYyNGWHNvcyw",
        "outputId": "004aeafb-cc0f-4c68-ec85-9bc6f30c1dcb",
        "colab": {
          "base_uri": "https://localhost:8080/",
          "height": 309
        }
      },
      "source": [
        "# TODO: define the code needed to refine the raw data\n",
        "def data_pipeline():\n",
        "\n",
        "  pipe = [\n",
        "          {\n",
        "              '$group':{\n",
        "                  '_id': {\n",
        "                      \"funding_source\":\"$Funding_Source\",\n",
        "                      \"request_type\":\"$Request Type\",\n",
        "                      \"department_name\":\"$Department Name\",\n",
        "                      \"replacement_body_style\":\"$Replacement_Body Style\",\n",
        "                      \"equipment_class\":\"$equipment Class\",\n",
        "                      \"replacement_make\":\"$replacement Make\",\n",
        "                      \"replacement_model\":\"$REPlacement model\",\n",
        "                      \"procurement_plan\":\"$Procurement Plan\"\n",
        "                      },\n",
        "                  \"avg_est_unit_cost\":{\"$avg\":\"$Est Unit Cost\"},\n",
        "                  \"avg_est_unit_cost_error\":{\"$avg\":{ \"$subtract\": [ \"$Est Unit Cost\", \"$Actual Unit Cost\" ] }}\n",
        "              }\n",
        "          }\n",
        "  ]\n",
        "\n",
        "  return pipe\n",
        "\n",
        "\n",
        "df = ai.access_data_from_pipeline(wrt_raw_data, data_pipeline())\n",
        "df.head()"
      ],
      "execution_count": null,
      "outputs": [
        {
          "output_type": "execute_result",
          "data": {
            "text/html": [
              "<div>\n",
              "<style scoped>\n",
              "    .dataframe tbody tr th:only-of-type {\n",
              "        vertical-align: middle;\n",
              "    }\n",
              "\n",
              "    .dataframe tbody tr th {\n",
              "        vertical-align: top;\n",
              "    }\n",
              "\n",
              "    .dataframe thead th {\n",
              "        text-align: right;\n",
              "    }\n",
              "</style>\n",
              "<table border=\"1\" class=\"dataframe\">\n",
              "  <thead>\n",
              "    <tr style=\"text-align: right;\">\n",
              "      <th></th>\n",
              "      <th>avg_est_unit_cost</th>\n",
              "      <th>avg_est_unit_cost_error</th>\n",
              "      <th>_id.funding_source</th>\n",
              "      <th>_id.request_type</th>\n",
              "      <th>_id.department_name</th>\n",
              "      <th>_id.replacement_body_style</th>\n",
              "      <th>_id.equipment_class</th>\n",
              "      <th>_id.replacement_make</th>\n",
              "      <th>_id.replacement_model</th>\n",
              "      <th>_id.procurement_plan</th>\n",
              "    </tr>\n",
              "  </thead>\n",
              "  <tbody>\n",
              "    <tr>\n",
              "      <th>0</th>\n",
              "      <td>18500.000000</td>\n",
              "      <td>-550.613333</td>\n",
              "      <td>CAP</td>\n",
              "      <td>Fleet Procurement Plan</td>\n",
              "      <td>Police</td>\n",
              "      <td>SEDAN</td>\n",
              "      <td>PC-GS</td>\n",
              "      <td>FORD</td>\n",
              "      <td>FUSION</td>\n",
              "      <td>Passenger Cars</td>\n",
              "    </tr>\n",
              "    <tr>\n",
              "      <th>1</th>\n",
              "      <td>122100.000000</td>\n",
              "      <td>99303.922000</td>\n",
              "      <td>CIP</td>\n",
              "      <td>Fleet Procurement Plan</td>\n",
              "      <td>Recreation</td>\n",
              "      <td>HANDHELD BLOWER</td>\n",
              "      <td>SPECIALIZED SMALL</td>\n",
              "      <td>STIHL</td>\n",
              "      <td>BG86</td>\n",
              "      <td>Horticulture</td>\n",
              "    </tr>\n",
              "    <tr>\n",
              "      <th>2</th>\n",
              "      <td>29508.000000</td>\n",
              "      <td>1619.300000</td>\n",
              "      <td>CIP</td>\n",
              "      <td>Fleet Procurement Plan</td>\n",
              "      <td>Fire</td>\n",
              "      <td>SEDAN</td>\n",
              "      <td>PC-GS</td>\n",
              "      <td>NISSAN</td>\n",
              "      <td>LEAF</td>\n",
              "      <td>Passenger Cars</td>\n",
              "    </tr>\n",
              "    <tr>\n",
              "      <th>3</th>\n",
              "      <td>21000.000000</td>\n",
              "      <td>3492.860000</td>\n",
              "      <td>CAP</td>\n",
              "      <td>Fleet Procurement Plan</td>\n",
              "      <td>Police</td>\n",
              "      <td>SEDAN</td>\n",
              "      <td>PC-GS</td>\n",
              "      <td>CHEVROLET</td>\n",
              "      <td>MALIBU</td>\n",
              "      <td>Passenger Cars</td>\n",
              "    </tr>\n",
              "    <tr>\n",
              "      <th>4</th>\n",
              "      <td>177505.176667</td>\n",
              "      <td>-33373.490000</td>\n",
              "      <td>CIP</td>\n",
              "      <td>Fleet Procurement Plan</td>\n",
              "      <td>Fire</td>\n",
              "      <td>AMBULANCE</td>\n",
              "      <td>AMBULANCE</td>\n",
              "      <td>FORD</td>\n",
              "      <td>F-450</td>\n",
              "      <td>Medic Units</td>\n",
              "    </tr>\n",
              "  </tbody>\n",
              "</table>\n",
              "</div>"
            ],
            "text/plain": [
              "   avg_est_unit_cost  ...  _id.procurement_plan\n",
              "0       18500.000000  ...        Passenger Cars\n",
              "1      122100.000000  ...          Horticulture\n",
              "2       29508.000000  ...        Passenger Cars\n",
              "3       21000.000000  ...        Passenger Cars\n",
              "4      177505.176667  ...           Medic Units\n",
              "\n",
              "[5 rows x 10 columns]"
            ]
          },
          "metadata": {
            "tags": []
          },
          "execution_count": 7
        }
      ]
    },
    {
      "cell_type": "code",
      "metadata": {
        "id": "zVXuhd8LdT3H",
        "outputId": "19d1a273-ebef-45f4-a4e4-d594e84773a8",
        "colab": {
          "base_uri": "https://localhost:8080/",
          "height": 54
        }
      },
      "source": [
        "!cat pipeline.log"
      ],
      "execution_count": null,
      "outputs": [
        {
          "output_type": "stream",
          "text": [
            "2020-09-25 17:25:46,500:dxc.ai.logging.pipeline_logging:INFO:[{'$group': {'_id': {'funding_source': '$Funding_Source', 'request_type': '$Request Type', 'department_name': '$Department Name', 'replacement_body_style': '$Replacement_Body Style', 'equipment_class': '$equipment Class', 'replacement_make': '$replacement Make', 'replacement_model': '$REPlacement model', 'procurement_plan': '$Procurement Plan'}, 'avg_est_unit_cost': {'$avg': '$Est Unit Cost'}, 'avg_est_unit_cost_error': {'$avg': {'$subtract': ['$Est Unit Cost', '$Actual Unit Cost']}}}}]\n"
          ],
          "name": "stdout"
        }
      ]
    },
    {
      "cell_type": "code",
      "metadata": {
        "id": "XJfEZDRaHGY9",
        "outputId": "c0f66d87-f47a-4598-c224-ce5ed6dbbc36",
        "colab": {
          "base_uri": "https://localhost:8080/",
          "height": 782
        }
      },
      "source": [
        "# TODO: design and run an experiment\n",
        "experiment_design = {\n",
        "    #model options include ['regression()', 'classification()']\n",
        "    \"model\": ai.regression(),\n",
        "    \"labels\": df.avg_est_unit_cost_error,\n",
        "    \"data\": df,\n",
        "    #Tell the model which column is 'output'\n",
        "    #Also note columns that aren't purely numerical\n",
        "    #Examples include ['nlp', 'date', 'categorical', 'ignore']\n",
        "    \"meta_data\": {\n",
        "      \"avg_est_unit_cost_error\": \"output\",\n",
        "      \"_id.funding_source\": \"categorical\",\n",
        "      \"_id.department_name\": \"categorical\",\n",
        "      \"_id.replacement_body_style\": \"categorical\",\n",
        "      \"_id.replacement_make\": \"categorical\",\n",
        "      \"_id.replacement_model\": \"categorical\",\n",
        "      \"_id.procurement_plan\": \"categorical\"\n",
        "  }\n",
        "}\n",
        "trained_model = ai.run_experiment(experiment_design)"
      ],
      "execution_count": null,
      "outputs": [
        {
          "output_type": "stream",
          "text": [
            "None\n",
            "\n",
            "\n",
            "***********************************************\n",
            "Advanced scoring metrics for the trained regression model on this particular dataset:\n",
            "\n",
            "Here is the overall RMSE for these predictions:\n",
            "52000.602795306\n",
            "\n",
            "Here is the average of the predictions:\n",
            "2270.1296244803493\n",
            "\n",
            "Here is the average actual value on this validation set:\n",
            "5177.398634004884\n",
            "\n",
            "Here is the median prediction:\n",
            "34.449001049076\n",
            "\n",
            "Here is the median actual value:\n",
            "0.0\n",
            "\n",
            "Here is the mean absolute error:\n",
            "22357.1842945423\n",
            "\n",
            "Here is the median absolute error (robust to outliers):\n",
            "4072.8118905359233\n",
            "\n",
            "Here is the explained variance:\n",
            "0.09295957963027268\n",
            "\n",
            "Here is the R-squared value:\n",
            "0.09011551184665778\n",
            "Count of positive differences (prediction > actual):\n",
            "44\n",
            "Count of negative differences:\n",
            "22\n",
            "Average positive difference:\n",
            "14587.43646376332\n",
            "Average negative difference:\n",
            "-37896.67995610025\n",
            "\n",
            "\n",
            "***********************************************\n",
            "\n",
            "\n"
          ],
          "name": "stdout"
        }
      ]
    },
    {
      "cell_type": "code",
      "metadata": {
        "id": "fGrP7Vd7mtLd",
        "outputId": "49e2355f-242b-4309-e982-9ebfe5c1bb80",
        "colab": {
          "base_uri": "https://localhost:8080/",
          "height": 462
        }
      },
      "source": [
        "!cat experiment_design.log"
      ],
      "execution_count": null,
      "outputs": [
        {
          "output_type": "stream",
          "text": [
            "2020-09-25 17:25:53,222:dxc.ai.logging.experiment_design_logging:INFO:{'model': <dxc.ai.run_model.run_model.regression object at 0x7fd4e39d9860>, 'labels': 0        -550.613333\n",
            "1       99303.922000\n",
            "2        1619.300000\n",
            "3        3492.860000\n",
            "4      -33373.490000\n",
            "           ...      \n",
            "323    186760.050000\n",
            "324      1118.745000\n",
            "325      4543.240000\n",
            "326     -4894.000000\n",
            "327      3627.664000\n",
            "Name: avg_est_unit_cost_error, Length: 328, dtype: float64, 'data':      avg_est_unit_cost  ...        _id.procurement_plan\n",
            "0         18500.000000  ...              Passenger Cars\n",
            "1        122100.000000  ...                Horticulture\n",
            "2         29508.000000  ...              Passenger Cars\n",
            "3         21000.000000  ...              Passenger Cars\n",
            "4        177505.176667  ...                 Medic Units\n",
            "..                 ...  ...                         ...\n",
            "323      187000.000000  ...                       Other\n",
            "324       28500.000000  ...           Specialized Small\n",
            "325       30000.000000  ...           Specialized Small\n",
            "326       41000.000000  ...  Emergency Response Vehicle\n",
            "327       47800.000000  ...                         Van\n",
            "\n",
            "[328 rows x 10 columns], 'meta_data': {'avg_est_unit_cost_error': 'output', '_id.funding_source': 'categorical', '_id.department_name': 'categorical', '_id.replacement_body_style': 'categorical', '_id.replacement_make': 'categorical', '_id.replacement_model': 'categorical', '_id.procurement_plan': 'categorical'}}\n"
          ],
          "name": "stdout"
        }
      ]
    },
    {
      "cell_type": "code",
      "metadata": {
        "id": "34OjUSIpn6fG"
      },
      "source": [
        "#TODO design a microservice\n",
        "microservice_design = {\n",
        "    \"microservice_name\": \"<Name of your microservice>\",\n",
        "    \"microservice_description\": \"<Brief description about your microservice>\",\n",
        "    \"execution_environment_username\": \"<Algorithmia username>\",\n",
        "    \"api_key\": \"<your api_key>\",\n",
        "    \"api_namespace\": \"<your api namespace>\",   \n",
        "    \"model_path\":\"<your model_path>\"\n",
        "}"
      ],
      "execution_count": null,
      "outputs": []
    },
    {
      "cell_type": "code",
      "metadata": {
        "id": "q1YxGTpeQKsv",
        "outputId": "e0a980c5-2442-4417-ba2d-ee1df03138ee",
        "colab": {
          "base_uri": "https://localhost:8080/",
          "height": 34
        }
      },
      "source": [
        "# publish the micro service and display the url of the api\n",
        "api_url = ai.publish_microservice(microservice_design, trained_model, verbose = False)\n",
        "print(\"api url: \" + api_url)"
      ],
      "execution_count": null,
      "outputs": [
        {
          "output_type": "stream",
          "text": [
            "api url: https://api.algorithmia.com/v1/algo/mbandru2/dxcaistarter/0.1.0\n"
          ],
          "name": "stdout"
        }
      ]
    },
    {
      "cell_type": "code",
      "metadata": {
        "id": "ikGnpo74pQ2e",
        "outputId": "da4d1fb6-1b67-4511-ad62-929d1f752024",
        "colab": {
          "base_uri": "https://localhost:8080/",
          "height": 54
        }
      },
      "source": [
        "!cat microservice_design_log.log"
      ],
      "execution_count": null,
      "outputs": [
        {
          "output_type": "stream",
          "text": [
            "2020-09-25 17:26:10,572:dxc.ai.logging.microservice_logging:INFO:{'microservice_name': 'dxcaistarter', 'microservice_description': 'test api generated from the DXC ai starter', 'execution_environment_username': 'mbandru2', 'api_key': 'sim1CBEvUbMpducHofhsUQIJBx41', 'api_namespace': 'mbandru2/dxcaistarter', 'model_path': 'data://.my/mycollection'}\n"
          ],
          "name": "stdout"
        }
      ]
    }
  ]
}