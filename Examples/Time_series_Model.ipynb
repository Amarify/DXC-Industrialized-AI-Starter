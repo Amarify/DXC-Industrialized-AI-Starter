{
  "nbformat": 4,
  "nbformat_minor": 0,
  "metadata": {
    "colab": {
      "name": "Time series Model Example.ipynb",
      "provenance": [],
      "collapsed_sections": []
    },
    "kernelspec": {
      "name": "python3",
      "display_name": "Python 3"
    }
  },
  "cells": [
    {
      "cell_type": "markdown",
      "metadata": {
        "id": "XobcwPHNnwGJ",
        "colab_type": "text"
      },
      "source": [
        "# Time series Model Example Notebook\n",
        "\n",
        "This notebook helps in understanding how to use a time series model from DXC Industrialized AI Starter library. In this example we have used monthly sales data. \n",
        "Data source ref: https://raw.githubusercontent.com/jbrownlee/Datasets/master/monthly_champagne_sales.csv"
      ]
    },
    {
      "cell_type": "code",
      "metadata": {
        "id": "TjTC0JrfCzoQ",
        "colab_type": "code",
        "colab": {}
      },
      "source": [
        "#Install the DXC_Industrialized-AI-Starter Package.\n",
        "%%capture\n",
        "#!pip install DXC-Industrialized-AI-Starter\n",
        "\n",
        "#or\n",
        "\n",
        "!pip install git+https://github.com/dxc-technology/DXC-Industrialized-AI-Starter.git"
      ],
      "execution_count": null,
      "outputs": []
    },
    {
      "cell_type": "markdown",
      "metadata": {
        "id": "s0Vk2soWB-cN",
        "colab_type": "text"
      },
      "source": [
        "From DXC-Industrialized-AI-Starter library import dxc-ai package"
      ]
    },
    {
      "cell_type": "code",
      "metadata": {
        "id": "dksOtflcDGf_",
        "colab_type": "code",
        "colab": {
          "base_uri": "https://localhost:8080/",
          "height": 187
        },
        "outputId": "69c4c250-4053-4dac-bf2a-440fe858bec3"
      },
      "source": [
        "from dxc import ai"
      ],
      "execution_count": 1,
      "outputs": [
        {
          "output_type": "stream",
          "text": [
            "[nltk_data] Downloading package punkt to /root/nltk_data...\n",
            "[nltk_data]   Unzipping tokenizers/punkt.zip.\n"
          ],
          "name": "stdout"
        },
        {
          "output_type": "stream",
          "text": [
            "/usr/local/lib/python3.6/dist-packages/sklearn/utils/deprecation.py:144: FutureWarning: The sklearn.metrics.classification module is  deprecated in version 0.22 and will be removed in version 0.24. The corresponding classes / functions should instead be imported from sklearn.metrics. Anything that cannot be imported from sklearn.metrics is now part of the private API.\n",
            "  warnings.warn(message, FutureWarning)\n",
            "/usr/local/lib/python3.6/dist-packages/sklearn/externals/six.py:31: FutureWarning: The module is deprecated in version 0.21 and will be removed in version 0.23 since we've dropped support for Python 2.7. Please rely on the official version of six (https://pypi.org/project/six/).\n",
            "  \"(https://pypi.org/project/six/).\", FutureWarning)\n",
            "/usr/local/lib/python3.6/dist-packages/sklearn/utils/deprecation.py:144: FutureWarning: The sklearn.metrics.scorer module is  deprecated in version 0.22 and will be removed in version 0.24. The corresponding classes / functions should instead be imported from sklearn.metrics. Anything that cannot be imported from sklearn.metrics is now part of the private API.\n",
            "  warnings.warn(message, FutureWarning)\n"
          ],
          "name": "stderr"
        },
        {
          "output_type": "stream",
          "text": [
            "Using older than supported version of lightgbm, please upgrade to version greater than 2.2.1\n"
          ],
          "name": "stdout"
        }
      ]
    },
    {
      "cell_type": "markdown",
      "metadata": {
        "id": "mM9ayMMxCJL_",
        "colab_type": "text"
      },
      "source": [
        "## Access the raw data"
      ]
    },
    {
      "cell_type": "code",
      "metadata": {
        "id": "flI-rCmbCH33",
        "colab_type": "code",
        "colab": {
          "base_uri": "https://localhost:8080/",
          "height": 197
        },
        "outputId": "0395c27e-bc85-4f98-cbd1-9bbc5584674b"
      },
      "source": [
        "#reads csv from a url and loads it into a dataframe\n",
        "csv_url = 'https://raw.githubusercontent.com/jbrownlee/Datasets/master/monthly_champagne_sales.csv'\n",
        "raw_data = ai.read_data_frame_from_remote_csv(csv_url, col_names = [], delim_whitespace=False, header = 'infer')\n",
        "raw_data.head()"
      ],
      "execution_count": 2,
      "outputs": [
        {
          "output_type": "execute_result",
          "data": {
            "text/html": [
              "<div>\n",
              "<style scoped>\n",
              "    .dataframe tbody tr th:only-of-type {\n",
              "        vertical-align: middle;\n",
              "    }\n",
              "\n",
              "    .dataframe tbody tr th {\n",
              "        vertical-align: top;\n",
              "    }\n",
              "\n",
              "    .dataframe thead th {\n",
              "        text-align: right;\n",
              "    }\n",
              "</style>\n",
              "<table border=\"1\" class=\"dataframe\">\n",
              "  <thead>\n",
              "    <tr style=\"text-align: right;\">\n",
              "      <th></th>\n",
              "      <th>Month</th>\n",
              "      <th>Sales</th>\n",
              "    </tr>\n",
              "  </thead>\n",
              "  <tbody>\n",
              "    <tr>\n",
              "      <th>0</th>\n",
              "      <td>1964-01</td>\n",
              "      <td>2815</td>\n",
              "    </tr>\n",
              "    <tr>\n",
              "      <th>1</th>\n",
              "      <td>1964-02</td>\n",
              "      <td>2672</td>\n",
              "    </tr>\n",
              "    <tr>\n",
              "      <th>2</th>\n",
              "      <td>1964-03</td>\n",
              "      <td>2755</td>\n",
              "    </tr>\n",
              "    <tr>\n",
              "      <th>3</th>\n",
              "      <td>1964-04</td>\n",
              "      <td>2721</td>\n",
              "    </tr>\n",
              "    <tr>\n",
              "      <th>4</th>\n",
              "      <td>1964-05</td>\n",
              "      <td>2946</td>\n",
              "    </tr>\n",
              "  </tbody>\n",
              "</table>\n",
              "</div>"
            ],
            "text/plain": [
              "     Month  Sales\n",
              "0  1964-01   2815\n",
              "1  1964-02   2672\n",
              "2  1964-03   2755\n",
              "3  1964-04   2721\n",
              "4  1964-05   2946"
            ]
          },
          "metadata": {
            "tags": []
          },
          "execution_count": 2
        }
      ]
    },
    {
      "cell_type": "markdown",
      "metadata": {
        "id": "03kiGairTSBI",
        "colab_type": "text"
      },
      "source": [
        "## Clean the raw data\n",
        "\n",
        "This method imputes missing data, cleans the column headings, removes empty rows and columns"
      ]
    },
    {
      "cell_type": "code",
      "metadata": {
        "id": "FGct46MJE7pk",
        "colab_type": "code",
        "colab": {
          "base_uri": "https://localhost:8080/",
          "height": 197
        },
        "outputId": "96dd628d-02f9-436c-9759-3011828eac12"
      },
      "source": [
        "#clean the data\n",
        "impute = True\n",
        "clean_data = ai.clean_dataframe(raw_data, impute)\n",
        "clean_data.head()"
      ],
      "execution_count": 3,
      "outputs": [
        {
          "output_type": "execute_result",
          "data": {
            "text/html": [
              "<div>\n",
              "<style scoped>\n",
              "    .dataframe tbody tr th:only-of-type {\n",
              "        vertical-align: middle;\n",
              "    }\n",
              "\n",
              "    .dataframe tbody tr th {\n",
              "        vertical-align: top;\n",
              "    }\n",
              "\n",
              "    .dataframe thead th {\n",
              "        text-align: right;\n",
              "    }\n",
              "</style>\n",
              "<table border=\"1\" class=\"dataframe\">\n",
              "  <thead>\n",
              "    <tr style=\"text-align: right;\">\n",
              "      <th></th>\n",
              "      <th>month</th>\n",
              "      <th>sales</th>\n",
              "    </tr>\n",
              "  </thead>\n",
              "  <tbody>\n",
              "    <tr>\n",
              "      <th>0</th>\n",
              "      <td>1964-01</td>\n",
              "      <td>2815</td>\n",
              "    </tr>\n",
              "    <tr>\n",
              "      <th>1</th>\n",
              "      <td>1964-02</td>\n",
              "      <td>2672</td>\n",
              "    </tr>\n",
              "    <tr>\n",
              "      <th>2</th>\n",
              "      <td>1964-03</td>\n",
              "      <td>2755</td>\n",
              "    </tr>\n",
              "    <tr>\n",
              "      <th>3</th>\n",
              "      <td>1964-04</td>\n",
              "      <td>2721</td>\n",
              "    </tr>\n",
              "    <tr>\n",
              "      <th>4</th>\n",
              "      <td>1964-05</td>\n",
              "      <td>2946</td>\n",
              "    </tr>\n",
              "  </tbody>\n",
              "</table>\n",
              "</div>"
            ],
            "text/plain": [
              "     month  sales\n",
              "0  1964-01   2815\n",
              "1  1964-02   2672\n",
              "2  1964-03   2755\n",
              "3  1964-04   2721\n",
              "4  1964-05   2946"
            ]
          },
          "metadata": {
            "tags": []
          },
          "execution_count": 3
        }
      ]
    },
    {
      "cell_type": "markdown",
      "metadata": {
        "id": "BY7hfyGLUZU2",
        "colab_type": "text"
      },
      "source": [
        "## Explore the raw data\n",
        "\n",
        "If you want to explore your data through visualization then you can use the below visulations functions."
      ]
    },
    {
      "cell_type": "code",
      "metadata": {
        "id": "WyElmvBdFGvl",
        "colab_type": "code",
        "colab": {
          "base_uri": "https://localhost:8080/",
          "height": 524
        },
        "outputId": "887ce5c1-c136-46c8-ad1b-acf91b541ac9"
      },
      "source": [
        "ai.visualize_missing_data(clean_data)"
      ],
      "execution_count": 4,
      "outputs": [
        {
          "output_type": "display_data",
          "data": {
            "image/png": "[encoded data removed]",
            "text/plain": [
              "<Figure size 1080x576 with 2 Axes>"
            ]
          },
          "metadata": {
            "tags": [],
            "needs_background": "light"
          }
        }
      ]
    },
    {
      "cell_type": "code",
      "metadata": {
        "id": "WIJIgVnTFnwu",
        "colab_type": "code",
        "colab": {
          "base_uri": "https://localhost:8080/",
          "height": 298
        },
        "outputId": "a8afc157-838a-443d-f16c-5ee2065dc6d6"
      },
      "source": [
        "ai.explore_features(clean_data)"
      ],
      "execution_count": 5,
      "outputs": [
        {
          "output_type": "display_data",
          "data": {
            "image/png": "[encoded data removed]",
            "text/plain": [
              "<Figure size 432x288 with 2 Axes>"
            ]
          },
          "metadata": {
            "tags": [],
            "needs_background": "light"
          }
        }
      ]
    },
    {
      "cell_type": "code",
      "metadata": {
        "id": "uK2QukbpF58K",
        "colab_type": "code",
        "colab": {
          "base_uri": "https://localhost:8080/",
          "height": 241
        },
        "outputId": "4c1779d8-c299-4126-c4fa-c9492522b1b7"
      },
      "source": [
        "ai.plot_distributions(clean_data)"
      ],
      "execution_count": 6,
      "outputs": [
        {
          "output_type": "display_data",
          "data": {
            "image/png": "[encoded data removed]",
            "text/plain": [
              "<Figure size 1080x216 with 3 Axes>"
            ]
          },
          "metadata": {
            "tags": []
          }
        }
      ]
    },
    {
      "cell_type": "markdown",
      "metadata": {
        "id": "SOFdfHuFT5s1",
        "colab_type": "text"
      },
      "source": [
        "## Run Time series experiment\n",
        "\n",
        "This function executes an experiment on Time series model. Update experiment_design with parameters that fit your project. The data parameter should be same as the refined training data. The model parameter must be a timeseries. The labels parameter indicates the column of the data dataframe which has time series data. Here defining your meta data is optional. By deafult this model consider last 7 historical values for evaluation of results. Based on those results this model automatically selects best model for your data."
      ]
    },
    {
      "cell_type": "code",
      "metadata": {
        "id": "oCQU2WocDRm9",
        "colab_type": "code",
        "colab": {
          "base_uri": "https://localhost:8080/",
          "height": 1000
        },
        "outputId": "25cd63d0-bc76-4bb6-d10e-fc7e3332d432"
      },
      "source": [
        "experiment_design = {\n",
        "    #model options include ['regression()', 'classification()']\n",
        "    \"model\": 'timeseries',\n",
        "    \"labels\": clean_data.sales,\n",
        "    \"data\": clean_data,\n",
        "    #Tell the model which column is 'output'\n",
        "    #Also note columns that aren't purely numerical\n",
        "    #Examples include ['nlp', 'date', 'categorical', 'ignore']\n",
        "    \"meta_data\": {\n",
        "      \"Sales\": \"output\",\n",
        "      \"Month\": \"date\"\n",
        "  }\n",
        "}\n",
        "trained_model = ai.run_experiment(experiment_design, verbose = True)"
      ],
      "execution_count": 8,
      "outputs": [
        {
          "output_type": "stream",
          "text": [
            "autoRegressiveModel\n",
            "                               AR Model Results                               \n",
            "==============================================================================\n",
            "Dep. Variable:                      y   No. Observations:                   97\n",
            "Model:                         AR(12)   Log Likelihood                -680.757\n",
            "Method:                          cmle   S.D. of innovations            727.761\n",
            "Date:                Sun, 05 Jul 2020   AIC                             13.509\n",
            "Time:                        20:20:41   BIC                             13.912\n",
            "Sample:                             0   HQIC                            13.671\n",
            "                                                                              \n",
            "==============================================================================\n",
            "                 coef    std err          z      P>|z|      [0.025      0.975]\n",
            "------------------------------------------------------------------------------\n",
            "const       1441.8888    620.817      2.323      0.020     225.111    2658.667\n",
            "L1.y           0.1017      0.057      1.796      0.072      -0.009       0.213\n",
            "L2.y          -0.1041      0.057     -1.831      0.067      -0.215       0.007\n",
            "L3.y           0.0423      0.059      0.716      0.474      -0.074       0.158\n",
            "L4.y          -0.1169      0.059     -1.989      0.047      -0.232      -0.002\n",
            "L5.y           0.0587      0.059      0.990      0.322      -0.058       0.175\n",
            "L6.y          -0.0907      0.059     -1.530      0.126      -0.207       0.026\n",
            "L7.y           0.0701      0.060      1.177      0.239      -0.047       0.187\n",
            "L8.y          -0.1355      0.060     -2.260      0.024      -0.253      -0.018\n",
            "L9.y           0.0700      0.061      1.148      0.251      -0.050       0.190\n",
            "L10.y         -0.0779      0.061     -1.273      0.203      -0.198       0.042\n",
            "L11.y          0.0551      0.061      0.902      0.367      -0.065       0.175\n",
            "L12.y          0.8908      0.060     14.909      0.000       0.774       1.008\n",
            "                                    Roots                                     \n",
            "==============================================================================\n",
            "                   Real          Imaginary           Modulus         Frequency\n",
            "------------------------------------------------------------------------------\n",
            "AR.1             1.0212           -0.0000j            1.0212           -0.0000\n",
            "AR.2             0.8621           -0.4995j            0.9964           -0.0836\n",
            "AR.3             0.8621           +0.4995j            0.9964            0.0836\n",
            "AR.4             0.4989           -0.8618j            0.9957           -0.1665\n",
            "AR.5             0.4989           +0.8618j            0.9957            0.1665\n",
            "AR.6             0.0052           -1.0082j            1.0082           -0.2492\n",
            "AR.7             0.0052           +1.0082j            1.0082            0.2492\n",
            "AR.8            -0.4942           -0.8712j            1.0016           -0.3321\n",
            "AR.9            -0.4942           +0.8712j            1.0016            0.3321\n",
            "AR.10           -0.8667           -0.4999j            1.0006           -0.4167\n",
            "AR.11           -0.8667           +0.4999j            1.0006            0.4167\n",
            "AR.12           -1.0937           -0.0000j            1.0937           -0.5000\n",
            "------------------------------------------------------------------------------\n"
          ],
          "name": "stdout"
        },
        {
          "output_type": "stream",
          "text": [
            "\n",
            "statsmodels.tsa.AR has been deprecated in favor of statsmodels.tsa.AutoReg and\n",
            "statsmodels.tsa.SARIMAX.\n",
            "\n",
            "AutoReg adds the ability to specify exogenous variables, include time trends,\n",
            "and add seasonal dummies. The AutoReg API differs from AR since the model is\n",
            "treated as immutable, and so the entire specification including the lag\n",
            "length must be specified when creating the model. This change is too\n",
            "substantial to incorporate into the existing AR api. The function\n",
            "ar_select_order performs lag length selection for AutoReg models.\n",
            "\n",
            "AutoReg only estimates parameters using conditional MLE (OLS). Use SARIMAX to\n",
            "estimate ARX and related models using full MLE via the Kalman Filter.\n",
            "\n",
            "To silence this warning and continue using AR until it is removed, use:\n",
            "\n",
            "import warnings\n",
            "warnings.filterwarnings('ignore', 'statsmodels.tsa.ar_model.AR', FutureWarning)\n",
            "\n",
            "\n",
            "statsmodels.tsa.AR has been deprecated in favor of statsmodels.tsa.AutoReg and\n",
            "statsmodels.tsa.SARIMAX.\n",
            "\n",
            "AutoReg adds the ability to specify exogenous variables, include time trends,\n",
            "and add seasonal dummies. The AutoReg API differs from AR since the model is\n",
            "treated as immutable, and so the entire specification including the lag\n",
            "length must be specified when creating the model. This change is too\n",
            "substantial to incorporate into the existing AR api. The function\n",
            "ar_select_order performs lag length selection for AutoReg models.\n",
            "\n",
            "AutoReg only estimates parameters using conditional MLE (OLS). Use SARIMAX to\n",
            "estimate ARX and related models using full MLE via the Kalman Filter.\n",
            "\n",
            "To silence this warning and continue using AR until it is removed, use:\n",
            "\n",
            "import warnings\n",
            "warnings.filterwarnings('ignore', 'statsmodels.tsa.ar_model.AR', FutureWarning)\n",
            "\n"
          ],
          "name": "stderr"
        }
      ]
    },
    {
      "cell_type": "code",
      "metadata": {
        "id": "N6zO0vr0E1AE",
        "colab_type": "code",
        "colab": {
          "base_uri": "https://localhost:8080/",
          "height": 100
        },
        "outputId": "68a41785-0bdd-4b66-d22f-89eee0f1740f"
      },
      "source": [
        "#Predicting the future results for next 8 instances.\n",
        "predictions = trained_model.predict(len(clean_data)-8,len(clean_data)+8)\n",
        "print(predictions)"
      ],
      "execution_count": 12,
      "outputs": [
        {
          "output_type": "stream",
          "text": [
            "[ 4122.46472382  4717.54543353  5156.13160207  4969.38215431\n",
            "  4741.0957225   1532.67612872  6082.24200573  7281.73079667\n",
            " 10041.9325823  12871.96309806  4692.51614504  3426.52629856\n",
            "  3892.99956271  4754.95390661  5253.7296647   5066.28589882\n",
            "  4818.35584209]\n"
          ],
          "name": "stdout"
        }
      ]
    },
    {
      "cell_type": "markdown",
      "metadata": {
        "id": "otJJW2detlIt",
        "colab_type": "text"
      },
      "source": [
        "\n",
        "\n",
        "Visual represntation for model prediction values vs original values\n",
        "\n"
      ]
    },
    {
      "cell_type": "code",
      "metadata": {
        "id": "1iAl0LQ5K5tW",
        "colab_type": "code",
        "colab": {
          "base_uri": "https://localhost:8080/",
          "height": 489
        },
        "outputId": "24552972-3a49-4c24-d2e4-bd5dc67b47bd"
      },
      "source": [
        "from matplotlib import pyplot as plt\n",
        "plt.figure(figsize=(12,8))\n",
        "plt.plot(list(clean_data['sales'].tail(8)) , color = \"blue\" , label = \"testing data\")\n",
        "plt.plot(predictions, color='red' , label = \"prediction\")\n",
        "plt.legend(loc='best')\n",
        "plt.show()"
      ],
      "execution_count": 13,
      "outputs": [
        {
          "output_type": "display_data",
          "data": {
            "image/png": "[encoded data removed]",
            "text/plain": [
              "<Figure size 864x576 with 1 Axes>"
            ]
          },
          "metadata": {
            "tags": []
          }
        }
      ]
    }
  ]
}